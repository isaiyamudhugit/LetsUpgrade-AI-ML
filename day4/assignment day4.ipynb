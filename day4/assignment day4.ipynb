{
 "cells": [
  {
   "cell_type": "markdown",
   "metadata": {},
   "source": [
    "# Question 1 :\n",
    "Research on whether addition, subtraction, multiplication, division, floor division and modulo\n",
    "operations be performed on complex numbers. Based on your study, implement a Python\n",
    "program to demonstrate these operations."
   ]
  },
  {
   "cell_type": "code",
   "execution_count": 1,
   "metadata": {},
   "outputs": [
    {
     "name": "stdout",
     "output_type": "stream",
     "text": [
      "Addition of complex numbers: (3+5j) + (7+8j) = (10+13j)\n",
      "subtraction of complex numbers: (3+5j) - (7+8j) = (-4-3j)\n",
      "multiplication of complex numbers: (3+5j) * (7+8j) = (-19+59j)\n",
      "division of complex numbers: (3+5j) / (7+8j) = (0.5398230088495575+0.09734513274336283j)\n"
     ]
    },
    {
     "ename": "TypeError",
     "evalue": "can't mod complex numbers.",
     "output_type": "error",
     "traceback": [
      "\u001b[1;31m---------------------------------------------------------------------------\u001b[0m",
      "\u001b[1;31mTypeError\u001b[0m                                 Traceback (most recent call last)",
      "\u001b[1;32m<ipython-input-1-037258b7017c>\u001b[0m in \u001b[0;36m<module>\u001b[1;34m\u001b[0m\n\u001b[0;32m     18\u001b[0m \u001b[1;31m#can't take floor of complex number.\u001b[0m\u001b[1;33m\u001b[0m\u001b[1;33m\u001b[0m\u001b[1;33m\u001b[0m\u001b[0m\n\u001b[0;32m     19\u001b[0m \u001b[1;33m\u001b[0m\u001b[0m\n\u001b[1;32m---> 20\u001b[1;33m \u001b[0mc_mo\u001b[0m \u001b[1;33m=\u001b[0m \u001b[0mc1\u001b[0m\u001b[1;33m%\u001b[0m\u001b[0mc2\u001b[0m\u001b[1;33m\u001b[0m\u001b[1;33m\u001b[0m\u001b[0m\n\u001b[0m\u001b[0;32m     21\u001b[0m \u001b[0mprint\u001b[0m\u001b[1;33m(\u001b[0m\u001b[1;34m\"modulo operations with complex numbers:\"\u001b[0m\u001b[1;33m,\u001b[0m\u001b[0mc1\u001b[0m\u001b[1;33m,\u001b[0m\u001b[1;34m\"%\"\u001b[0m\u001b[1;33m,\u001b[0m\u001b[0mc2\u001b[0m\u001b[1;33m,\u001b[0m\u001b[1;34m\"=\"\u001b[0m\u001b[1;33m,\u001b[0m\u001b[0mc_mo\u001b[0m\u001b[1;33m)\u001b[0m\u001b[1;33m\u001b[0m\u001b[1;33m\u001b[0m\u001b[0m\n",
      "\u001b[1;31mTypeError\u001b[0m: can't mod complex numbers."
     ]
    }
   ],
   "source": [
    "c1 = 3+5j\n",
    "c2 = 7+8j\n",
    "\n",
    "c_add = c1+c2\n",
    "print(\"Addition of complex numbers:\",c1,\"+\",c2,\"=\",c_add)\n",
    "\n",
    "c_sub = c1-c2\n",
    "print(\"subtraction of complex numbers:\",c1,\"-\",c2,\"=\",c_sub)\n",
    "\n",
    "c_mul = c1*c2\n",
    "print(\"multiplication of complex numbers:\",c1,\"*\",c2,\"=\",c_mul)\n",
    "\n",
    "c_divi = c1/c2\n",
    "print(\"division of complex numbers:\",c1,\"/\",c2,\"=\",c_divi)\n",
    "\n",
    "#c_fdivi = c1//c2\n",
    "#print(\"floor division of complex numbers:\",c1,\"//\",c2,\"=\",fc_divi)\n",
    "#can't take floor of complex number.\n",
    "\n",
    "c_mo = c1%c2\n",
    "print(\"modulo operations with complex numbers:\",c1,\"%\",c2,\"=\",c_mo)\n"
   ]
  },
  {
   "cell_type": "markdown",
   "metadata": {},
   "source": [
    "# Question 2 :\n",
    "Research on range() functions and its parameters. Create a markdown cell and write in your own\n",
    "words (no copy-paste from google please) what you understand about it. Implement a small\n",
    "program of your choice on the same."
   ]
  },
  {
   "cell_type": "markdown",
   "metadata": {},
   "source": [
    "#  range() functions\n",
    "\n",
    "range() returns a sequence of numbers . \n",
    "This range funtion have 3 perameters (start, stop and stepsize).\n",
    "\n",
    "##### __start index__ Its a optional parameter, its default position is zero. \n",
    "##### __stop index__ Its a reuired parameter to define the stop position of the range. \n",
    "##### __step size__ This is also optional parameter. It define the incrementation of the sequence numbers."
   ]
  },
  {
   "cell_type": "code",
   "execution_count": 1,
   "metadata": {},
   "outputs": [
    {
     "name": "stdout",
     "output_type": "stream",
     "text": [
      "range(0, 50, 3)\n",
      "0 3 6 9 12 15 18 21 24 27 30 33 36 39 42 45 48 "
     ]
    }
   ],
   "source": [
    "a = range(0,50,3)\n",
    "print(a)\n",
    "for i in a:\n",
    "    print(i,end=\" \")\n"
   ]
  },
  {
   "cell_type": "markdown",
   "metadata": {},
   "source": [
    "\n"
   ]
  },
  {
   "cell_type": "code",
   "execution_count": null,
   "metadata": {},
   "outputs": [],
   "source": []
  },
  {
   "cell_type": "markdown",
   "metadata": {},
   "source": [
    "# Question 3:\n",
    "Consider two numbers. Perform their subtraction and if the result of subtraction is greater than\n",
    "25, print their multiplication result else print their division result.\n"
   ]
  },
  {
   "cell_type": "code",
   "execution_count": 22,
   "metadata": {},
   "outputs": [
    {
     "name": "stdout",
     "output_type": "stream",
     "text": [
      "Enter number one =65\n",
      "Enter number two =9\n",
      "multiplication result:  585\n"
     ]
    }
   ],
   "source": [
    "n1 = int(input(\"Enter number one =\"))\n",
    "n2 = int(input(\"Enter number two =\"))\n",
    "subno = n1-n2\n",
    "if(subno > 25):\n",
    "    mulno = n1*n2\n",
    "    print(\"multiplication result: \",mulno)\n",
    "else:\n",
    "    divino = n1/n2\n",
    "    print(\"division result: \",divino)\n",
    "    "
   ]
  },
  {
   "cell_type": "markdown",
   "metadata": {},
   "source": [
    "# Question 4:\n",
    "Consider a list of 10 elements of integer values. If the number in the list is divisible by 2, print the\n",
    "result as \"square of that number minus 2\"."
   ]
  },
  {
   "cell_type": "code",
   "execution_count": 8,
   "metadata": {},
   "outputs": [
    {
     "name": "stdout",
     "output_type": "stream",
     "text": [
      "12  square of -2  is:  0.006944444444444444\n",
      "2  square of -2  is:  0.25\n",
      "56  square of -2  is:  0.00031887755102040814\n",
      "78  square of -2  is:  0.0001643655489809336\n",
      "98  square of -2  is:  0.00010412328196584757\n"
     ]
    }
   ],
   "source": [
    "lst = [12,23,45,11,2,43,56,78,98,33]\n",
    "for i in lst:\n",
    "    val = i%2\n",
    "    if(val == 0):\n",
    "        print(i,\" square of -2  is: \", i**-2)\n",
    "      "
   ]
  },
  {
   "cell_type": "markdown",
   "metadata": {},
   "source": [
    "\n",
    "# Question 5:\n",
    "Consider a list of 10 elements. Print all the elements in the list which are greater than 7 when that\n",
    "number is divided 2."
   ]
  },
  {
   "cell_type": "code",
   "execution_count": 20,
   "metadata": {},
   "outputs": [
    {
     "name": "stdout",
     "output_type": "stream",
     "text": [
      "printing quotient value of  26 is 13.0\n",
      "printing quotient value of  18 is 9.0\n",
      "printing quotient value of  85 is 42.5\n",
      "printing quotient value of  56 is 28.0\n",
      "printing quotient value of  54 is 27.0\n"
     ]
    }
   ],
   "source": [
    "lst2 = [8,26,12,18,85,9,56,11,54,10]\n",
    "\n",
    "for i in lst2:\n",
    "    dividedno = i/2\n",
    "    if(dividedno > 7): # condition for elements in the list which are greater than 7 \n",
    "        print(\"printing quotient value of \",i,\"is\",dividedno)"
   ]
  },
  {
   "cell_type": "code",
   "execution_count": null,
   "metadata": {},
   "outputs": [],
   "source": []
  }
 ],
 "metadata": {
  "kernelspec": {
   "display_name": "Python 3",
   "language": "python",
   "name": "python3"
  },
  "language_info": {
   "codemirror_mode": {
    "name": "ipython",
    "version": 3
   },
   "file_extension": ".py",
   "mimetype": "text/x-python",
   "name": "python",
   "nbconvert_exporter": "python",
   "pygments_lexer": "ipython3",
   "version": "3.7.6"
  }
 },
 "nbformat": 4,
 "nbformat_minor": 4
}
