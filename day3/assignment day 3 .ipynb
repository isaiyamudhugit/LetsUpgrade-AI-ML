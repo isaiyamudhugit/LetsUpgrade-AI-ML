{
 "cells": [
  {
   "cell_type": "markdown",
   "metadata": {},
   "source": [
    "## Question 1 :\n",
    "Write a program to subtract two complex numbers in Python."
   ]
  },
  {
   "cell_type": "code",
   "execution_count": 11,
   "metadata": {},
   "outputs": [
    {
     "name": "stdout",
     "output_type": "stream",
     "text": [
      "a = 57j b = 8j \n",
      "subtraction of complex numbers =  49j\n"
     ]
    }
   ],
   "source": [
    "a = 57j\n",
    "b = 8j\n",
    "\n",
    "c = a-b\n",
    "print(\"a =\",a,\"b =\",b,\"\\nsubtraction of complex numbers = \",c)"
   ]
  },
  {
   "cell_type": "markdown",
   "metadata": {},
   "source": [
    "## Question 2 :\n",
    "Write a program to find the fourth root of a number."
   ]
  },
  {
   "cell_type": "code",
   "execution_count": 1,
   "metadata": {
    "scrolled": true
   },
   "outputs": [
    {
     "name": "stdout",
     "output_type": "stream",
     "text": [
      "4096\n"
     ]
    }
   ],
   "source": [
    "num = 8\n",
    "rtnum = num**4\n",
    "print(rtnum)"
   ]
  },
  {
   "cell_type": "markdown",
   "metadata": {},
   "source": [
    "## Question 3:\n",
    "Write a program to swap two numbers in Python with the help of a temporary variable."
   ]
  },
  {
   "cell_type": "code",
   "execution_count": 13,
   "metadata": {},
   "outputs": [
    {
     "name": "stdout",
     "output_type": "stream",
     "text": [
      "Enter First Number: 56\n",
      "Enter Second Number: 32\n",
      "Value of num1 before swapping:  56\n",
      "Value of num2 before swapping:  32\n",
      "Value of num1 after swapping:  32\n",
      "Value of num2 after swapping:  56\n"
     ]
    }
   ],
   "source": [
    "num1 = input('Enter First Number: ')\n",
    "num2 = input('Enter Second Number: ')\n",
    "\n",
    "print(\"Value of num1 before swapping: \", num1)\n",
    "print(\"Value of num2 before swapping: \", num2)\n",
    "\n",
    "# swapping two numbers using temporary variable\n",
    "temp = num1\n",
    "num1 = num2\n",
    "num2 = temp\n",
    "\n",
    "print(\"Value of num1 after swapping: \", num1)\n",
    "print(\"Value of num2 after swapping: \", num2)"
   ]
  },
  {
   "cell_type": "markdown",
   "metadata": {},
   "source": [
    "## Question 4:\n",
    "Write a program to swap two numbers in Python without using a temporary variable.\n"
   ]
  },
  {
   "cell_type": "code",
   "execution_count": 16,
   "metadata": {},
   "outputs": [
    {
     "name": "stdout",
     "output_type": "stream",
     "text": [
      "Enter First Number: 34\n",
      "Enter Second Number: 45\n",
      "Value of num1 before swapping:  34\n",
      "Value of num2 before swapping:  45\n",
      "Value of num1 after swapping:  45\n",
      "Value of num2 after swapping:  34\n"
     ]
    }
   ],
   "source": [
    "num1 = input('Enter First Number: ')\n",
    "num2 = input('Enter Second Number: ')\n",
    "\n",
    "print(\"Value of num1 before swapping: \", num1)\n",
    "print(\"Value of num2 before swapping: \", num2)\n",
    "\n",
    "# swapping two numbers without using temporary variable\n",
    "num1, num2 = num2, num1\n",
    "\n",
    "print(\"Value of num1 after swapping: \", num1)\n",
    "print(\"Value of num2 after swapping: \", num2)\n",
    "\n",
    "num = ascii(num1)"
   ]
  },
  {
   "cell_type": "markdown",
   "metadata": {},
   "source": [
    "## Question 5:\n",
    "Write a program to convert fahrenheit to kelvin and celsius both."
   ]
  },
  {
   "cell_type": "code",
   "execution_count": 31,
   "metadata": {},
   "outputs": [
    {
     "name": "stdout",
     "output_type": "stream",
     "text": [
      "311.27777777777777\n",
      "Temperature in Kelvin ( K ) = 311.278\n",
      "100.00 Fahrenheit is: 37.78 Celsius\n"
     ]
    }
   ],
   "source": [
    "# Function to convert temperature \n",
    "def Fahrenheit_to_Kelvin(F): \n",
    "    return 273.5 + ((F - 32.0) * (5.0/9.0)) \n",
    "  \n",
    "# Driver function \n",
    "F = 100\n",
    "K = format(Fahrenheit_to_Kelvin(F))\n",
    "print(K)\n",
    "print(\"Temperature in Kelvin ( K ) = {:.3f}\" \n",
    "            .format(Fahrenheit_to_Kelvin( F ))) \n",
    "\n",
    "C = (F - 32) * 5/9\n",
    "print('%.2f Fahrenheit is: %.2f Celsius' %(F, C))\n"
   ]
  },
  {
   "cell_type": "markdown",
   "metadata": {},
   "source": [
    "## Question 6:\n",
    "Write a program to demonstrate all the available data types in Python. Hint: Use type() function."
   ]
  },
  {
   "cell_type": "code",
   "execution_count": 22,
   "metadata": {},
   "outputs": [
    {
     "name": "stdout",
     "output_type": "stream",
     "text": [
      "type of variable i is <class 'int'>\n",
      "type of variable f is <class 'float'>\n",
      "type of variable c is <class 'complex'>\n",
      "type of variable s is <class 'str'>\n",
      "type of variable l is <class 'list'>\n",
      "type of variable t is <class 'tuple'>\n",
      "type of variable d is <class 'dict'>\n",
      "type of variable b is <class 'bool'>\n",
      "type of variable r is <class 'range'>\n"
     ]
    }
   ],
   "source": [
    "i = 100\n",
    "f = 98.876\n",
    "c = 6j\n",
    "s = \"python\"\n",
    "l = [11,12,13,14,14.5,15,16,17,18]\n",
    "t = (20,21,21,20,205,54,87,'aiml',98.5)\n",
    "d = {i:98,f:54,c:54}\n",
    "b = i<f\n",
    "r = range(0,80)\n",
    "\n",
    "print(\"type of variable i is\",type(i))\n",
    "print(\"type of variable f is\",type(f))\n",
    "print(\"type of variable c is\",type(c))\n",
    "print(\"type of variable s is\",type(s))\n",
    "print(\"type of variable l is\",type(l))\n",
    "print(\"type of variable t is\",type(t))\n",
    "print(\"type of variable d is\",type(d))\n",
    "print(\"type of variable b is\",type(b))\n",
    "print(\"type of variable r is\",type(r))\n"
   ]
  },
  {
   "cell_type": "markdown",
   "metadata": {},
   "source": [
    "## Question 7:\n",
    "Create a Markdown cell in jupyter and list the steps discussed in the session by Dr. Darshan\n",
    "Ingle sir to create Github profile"
   ]
  },
  {
   "cell_type": "markdown",
   "metadata": {},
   "source": [
    "# Create  github profile:\n",
    "\n",
    "#### step 1 : signup \n",
    "\n",
    "#### step 2 : new repository named letsupgrade AIML\n",
    "\n",
    "#### step 3 : create folder for the day# assignment \n",
    "\n",
    "#### step 4 : upload assignment files to letsupgrade AIML repository\n",
    "\n",
    "    "
   ]
  },
  {
   "cell_type": "code",
   "execution_count": null,
   "metadata": {},
   "outputs": [],
   "source": []
  }
 ],
 "metadata": {
  "kernelspec": {
   "display_name": "Python 3",
   "language": "python",
   "name": "python3"
  },
  "language_info": {
   "codemirror_mode": {
    "name": "ipython",
    "version": 3
   },
   "file_extension": ".py",
   "mimetype": "text/x-python",
   "name": "python",
   "nbconvert_exporter": "python",
   "pygments_lexer": "ipython3",
   "version": "3.7.6"
  }
 },
 "nbformat": 4,
 "nbformat_minor": 4
}
