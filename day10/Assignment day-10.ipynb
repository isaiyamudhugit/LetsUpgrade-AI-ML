{
 "cells": [
  {
   "cell_type": "markdown",
   "metadata": {},
   "source": [
    "#### According to the problem statement frame ten hypothesis statements."
   ]
  },
  {
   "cell_type": "markdown",
   "metadata": {},
   "source": [
    "# Question 1:\n",
    "\n",
    "Attach the dataset and mentioned problem statement below,\n",
    "\n",
    "● A sizable department has to be maintained, for the purposes of recruiting new talent\n",
    "\n",
    "● More often than not, the new employees have to be trained for the job and/or given time to\n",
    "acclimatize themselves to the company\n",
    "\n",
    "● Hence, the management has contracted an HR analytics firm to understand what factors they\n",
    "should focus on, in order to curb attrition.\n",
    "\n",
    "● In other words, they want to know ***what changes they should make to their workplace, in order to\n",
    "get most of their employees to stay.***\n",
    "\n",
    "● Also, they want to know ***which of these variables is most important and needs to be addressed\n",
    "right away.***\n"
   ]
  },
  {
   "cell_type": "markdown",
   "metadata": {},
   "source": [
    "# Hypothesis Statements are,"
   ]
  },
  {
   "cell_type": "markdown",
   "metadata": {},
   "source": [
    " ### 1. Motivating employees by providing rewards and appreciations for their hard work will helps to control the curb attrition on company.\n",
    "\n"
   ]
  },
  {
   "cell_type": "markdown",
   "metadata": {},
   "source": [
    "### 2.  The compensation package including cash benefits such as health insurance & pension always affect the employee's decisions to stay in company."
   ]
  },
  {
   "cell_type": "markdown",
   "metadata": {},
   "source": [
    "### 3. Encouraging employee’s learning attitude and giving proper growth direction also affect the employee’s decision to stay in the company."
   ]
  },
  {
   "cell_type": "markdown",
   "metadata": {},
   "source": [
    "### 4. Periodic interaction to share their ideas or views and exchange information and taking concern necessary action on the received feedback from the employee"
   ]
  },
  {
   "cell_type": "markdown",
   "metadata": {},
   "source": [
    "### 5. By providing opportunities to switch their domain with in a company based on their interest also made an impact with curd attrition."
   ]
  },
  {
   "cell_type": "markdown",
   "metadata": {},
   "source": [
    "### 6. Balanced work and personal life for employees."
   ]
  },
  {
   "cell_type": "markdown",
   "metadata": {},
   "source": [
    "### 7. Encourage their spouse working in the same company."
   ]
  },
  {
   "cell_type": "markdown",
   "metadata": {},
   "source": [
    "### 8. Providing trainings frequently, for technical and non-technical programs\n",
    "\n"
   ]
  },
  {
   "cell_type": "markdown",
   "metadata": {},
   "source": [
    "### 9. Organize team outing and cultural activities or sports events are create bonding with in the employees."
   ]
  },
  {
   "cell_type": "markdown",
   "metadata": {},
   "source": [
    "### 10.\tEncourage and provide referral benefits to motivate their friends and family to join the company."
   ]
  }
 ],
 "metadata": {
  "kernelspec": {
   "display_name": "Python 3",
   "language": "python",
   "name": "python3"
  },
  "language_info": {
   "codemirror_mode": {
    "name": "ipython",
    "version": 3
   },
   "file_extension": ".py",
   "mimetype": "text/x-python",
   "name": "python",
   "nbconvert_exporter": "python",
   "pygments_lexer": "ipython3",
   "version": "3.7.6"
  }
 },
 "nbformat": 4,
 "nbformat_minor": 4
}
