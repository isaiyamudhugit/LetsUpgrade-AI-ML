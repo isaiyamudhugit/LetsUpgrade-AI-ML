{
 "cells": [
  {
   "cell_type": "markdown",
   "metadata": {},
   "source": [
    "# Question 1 :\n",
    "Write a Python program to find the first 20 non-even prime natural numbers.\n"
   ]
  },
  {
   "cell_type": "code",
   "execution_count": 10,
   "metadata": {},
   "outputs": [
    {
     "name": "stdout",
     "output_type": "stream",
     "text": [
      "First 20 non-even prime natural numbers are: \n",
      "1 3 5 7 9 11 13 15 17 19 "
     ]
    }
   ],
   "source": [
    "num = 21\n",
    "print(\"First 20 non-even prime natural numbers are: \")\n",
    "for i in range(0,num):\n",
    "    if i % 2 != 0:\n",
    "        print(i, end = \" \")\n",
    "    "
   ]
  },
  {
   "cell_type": "markdown",
   "metadata": {},
   "source": [
    "# Question 2 :\n",
    "Write a Python program to implement 15 functions of string.\n"
   ]
  },
  {
   "cell_type": "code",
   "execution_count": 67,
   "metadata": {},
   "outputs": [
    {
     "name": "stdout",
     "output_type": "stream",
     "text": [
      "IM A PYTHON PROGRAMMER.\n",
      "Using capitalize build in function \n",
      ": Im a python programmer.\n",
      "Using casefold build in function \n",
      ": im a python programmer.\n",
      "Using center build in function \n",
      ": IM A PYTHON PROGRAMMER.\n",
      "Using count build in function \n",
      ": 1\n",
      "Using encode build in function \n",
      ": b'IM A PYTHON PROGRAMMER.'\n",
      "Using endswith build in function \n",
      ": True\n",
      "Using expandtabs build in function \n",
      ": IM A PYTHON PROGRAMMER.\n",
      "Using find build in function \n",
      ": 12\n",
      "Using format build in function \n",
      ": IM A PYTHON PROGRAMMER. AND DATA SCIENTIST.\n",
      "Using index build in function \n",
      ": 5\n",
      "Using upper build in function \n",
      ": IM A PYTHON PROGRAMMER.\n",
      "Using lower build in function \n",
      ": im a python programmer.\n",
      "Using lstrip build in function \n",
      ": IM A PYTHON PROGRAMMER. AND DATA SCIENTIST.    \n",
      "Using split build in function \n",
      ": ['IM', 'A', 'PYTHON', 'PROGRAMMER.']\n",
      "Using isnumeric build in function \n",
      ": False\n"
     ]
    }
   ],
   "source": [
    "strvar = \"IM A PYTHON PROGRAMMER.\"\n",
    "txt = \"   AND DATA SCIENTIST.    \"\n",
    "fun1 = strvar.capitalize()\n",
    "fun2 = strvar.casefold()\n",
    "fun3 = strvar.center(10) \n",
    "fun4 = strvar.count('PROGRAMMER')\n",
    "fun5 = strvar.encode()\n",
    "fun6 = strvar.endswith(\"PROGRAMMER.\")\n",
    "fun7 = strvar.expandtabs()\n",
    "fun8 = strvar.find('PROGRAMMER')\n",
    "fun10 = strvar.index('PYTHON')\n",
    "fun11 = strvar.upper()\n",
    "fun12 = strvar.lower()\n",
    "fun13 = txt.lstrip()\n",
    "fun14 = strvar.split()\n",
    "fun15 = strvar.isnumeric()\n",
    "print(strvar)\n",
    "print(\"Using capitalize build in function \\n:\",fun1) # Converts the first character to upper case\n",
    "print(\"Using casefold build in function \\n:\",fun2) # Converts string into lower case\n",
    "print(\"Using center build in function \\n:\",fun3)# returns a centered string\n",
    "print(\"Using count build in function \\n:\",fun4) # Returns the number of times a specified value occurs in a string\n",
    "print(\"Using encode build in function \\n:\",fun5) # Returns an encoded version of the string\n",
    "print(\"Using endswith build in function \\n:\",fun6) # Returns true if the string ends with the specified value\n",
    "print(\"Using expandtabs build in function \\n:\",fun7) # Sets the tab size of the string\n",
    "print(\"Using find build in function \\n:\",fun8) # Searches the string for a specified value and returns the position of where it was found\n",
    "print(\"Using format build in function \\n:\",strvar,format(\"AND DATA SCIENTIST.\")) #Formats specified values in a string\n",
    "print(\"Using index build in function \\n:\",fun10) #Searches the string for a specified value and returns the position of where it was found\n",
    "print(\"Using upper build in function \\n:\",fun11)\n",
    "print(\"Using lower build in function \\n:\",fun12)\n",
    "print(\"Using lstrip build in function \\n:\",strvar,fun13)# Returns a left trim version of the string\n",
    "print(\"Using split build in function \\n:\",fun14)\n",
    "print(\"Using isnumeric build in function \\n:\",fun15)\n"
   ]
  },
  {
   "cell_type": "code",
   "execution_count": null,
   "metadata": {},
   "outputs": [],
   "source": []
  },
  {
   "cell_type": "markdown",
   "metadata": {},
   "source": [
    "# Question 3:\n",
    "Write a Python program to check if the given string is a Palindrome or Anagram or None of them.\n",
    "Display the message accordingly to the user."
   ]
  },
  {
   "cell_type": "code",
   "execution_count": 83,
   "metadata": {},
   "outputs": [
    {
     "name": "stdout",
     "output_type": "stream",
     "text": [
      "Its not a palindrom.\n",
      "None\n",
      "Its not a palindrom.\n",
      "None\n",
      "'  astronomer ' and ' moonstarer 'are anagram!!!\n",
      "None\n",
      "'  palindrom ' and ' anagram '  are not a anagram\n",
      "None\n"
     ]
    }
   ],
   "source": [
    "stra = \"malayalam\"\n",
    "strb = \"english\"\n",
    "awrd1 = \"astronomer\"\n",
    "awrd2 = \"moonstarer\"\n",
    "wrda = \"palindrom\"\n",
    "wrdb = \"anagram\"\n",
    "\n",
    "def ispalindrom(wrd):\n",
    "    if wrd == reversed(wrd):\n",
    "        print(\"Its palindrom!\")\n",
    "    else:\n",
    "        print(\"Its not a palindrom.\")\n",
    "        \n",
    "def isanagram(wrd1,wrd2):\n",
    "    if sorted(wrd1) == sorted(wrd2):\n",
    "        print(\"\\' \",wrd1,\"\\' and \\'\",wrd2,\"\\'are anagram!!!\")\n",
    "    else:\n",
    "        print(\"\\' \",wrd1,\"\\' and \\'\",wrd2,\"\\'  are not a anagram\")\n",
    "    \n",
    "print(ispalindrom(stra))\n",
    "print(ispalindrom(strb))\n",
    "\n",
    "print(isanagram(awrd1,awrd2))\n",
    "print(isanagram(wrda,wrdb))\n",
    "\n"
   ]
  },
  {
   "cell_type": "markdown",
   "metadata": {},
   "source": [
    "\n",
    "# Question 4:\n",
    "Write a Python's user defined function that removes all the additional characters from the string\n",
    "and converts it finally to lower case using built-in lower(). eg: If the string is \"Dr. Darshan Ingle\n",
    "@AI-ML Trainer\", then the output be \"drdarshaningleaimltrainer\"."
   ]
  },
  {
   "cell_type": "code",
   "execution_count": 89,
   "metadata": {},
   "outputs": [
    {
     "name": "stdout",
     "output_type": "stream",
     "text": [
      "drdarshaningleaimltrainer\n"
     ]
    }
   ],
   "source": [
    "string = \"Dr. Darshan Ingle @AI-ML Trainer\"\n",
    "rchar  = ['.','@','-',' ']\n",
    "for i in rchar:\n",
    "    string = string.replace(i,'')\n",
    "    \n",
    "print(string.lower())"
   ]
  },
  {
   "cell_type": "code",
   "execution_count": null,
   "metadata": {},
   "outputs": [],
   "source": []
  }
 ],
 "metadata": {
  "kernelspec": {
   "display_name": "Python 3",
   "language": "python",
   "name": "python3"
  },
  "language_info": {
   "codemirror_mode": {
    "name": "ipython",
    "version": 3
   },
   "file_extension": ".py",
   "mimetype": "text/x-python",
   "name": "python",
   "nbconvert_exporter": "python",
   "pygments_lexer": "ipython3",
   "version": "3.7.6"
  }
 },
 "nbformat": 4,
 "nbformat_minor": 4
}
