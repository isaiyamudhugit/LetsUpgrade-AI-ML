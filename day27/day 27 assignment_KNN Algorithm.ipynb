{
 "cells": [
  {
   "cell_type": "markdown",
   "metadata": {},
   "source": [
    "# K Nearest Neibour classification algorithm"
   ]
  },
  {
   "cell_type": "code",
   "execution_count": 224,
   "metadata": {},
   "outputs": [
    {
     "name": "stdout",
     "output_type": "stream",
     "text": [
      "<class 'pandas.core.frame.DataFrame'>\n",
      "RangeIndex: 889 entries, 0 to 888\n",
      "Data columns (total 9 columns):\n",
      " #   Column       Non-Null Count  Dtype  \n",
      "---  ------       --------------  -----  \n",
      " 0   PassengerId  889 non-null    int64  \n",
      " 1   Survived     889 non-null    int64  \n",
      " 2   Pclass       889 non-null    int64  \n",
      " 3   Sex          889 non-null    object \n",
      " 4   Age          889 non-null    float64\n",
      " 5   SibSp        889 non-null    int64  \n",
      " 6   Parch        889 non-null    int64  \n",
      " 7   Fare         889 non-null    float64\n",
      " 8   Embarked     889 non-null    object \n",
      "dtypes: float64(2), int64(5), object(2)\n",
      "memory usage: 62.6+ KB\n"
     ]
    }
   ],
   "source": [
    "import pandas as pd\n",
    "import numpy as np\n",
    "from sklearn import preprocessing\n",
    "from sklearn.model_selection import train_test_split\n",
    "from sklearn.metrics import accuracy_score\n",
    "from sklearn.metrics import confusion_matrix\n",
    "import matplotlib.pyplot as plt \n",
    "\n",
    "dataset = pd.read_csv('train.csv')\n",
    "dataset = dataset.drop(['Name','Ticket','Cabin'],axis=1)\n",
    "dataset.info()"
   ]
  },
  {
   "cell_type": "code",
   "execution_count": 225,
   "metadata": {},
   "outputs": [
    {
     "data": {
      "text/html": [
       "<div>\n",
       "<style scoped>\n",
       "    .dataframe tbody tr th:only-of-type {\n",
       "        vertical-align: middle;\n",
       "    }\n",
       "\n",
       "    .dataframe tbody tr th {\n",
       "        vertical-align: top;\n",
       "    }\n",
       "\n",
       "    .dataframe thead th {\n",
       "        text-align: right;\n",
       "    }\n",
       "</style>\n",
       "<table border=\"1\" class=\"dataframe\">\n",
       "  <thead>\n",
       "    <tr style=\"text-align: right;\">\n",
       "      <th></th>\n",
       "      <th>PassengerId</th>\n",
       "      <th>Survived</th>\n",
       "      <th>Pclass</th>\n",
       "      <th>Sex</th>\n",
       "      <th>Age</th>\n",
       "      <th>SibSp</th>\n",
       "      <th>Parch</th>\n",
       "      <th>Fare</th>\n",
       "      <th>Embarked</th>\n",
       "    </tr>\n",
       "  </thead>\n",
       "  <tbody>\n",
       "    <tr>\n",
       "      <th>0</th>\n",
       "      <td>1</td>\n",
       "      <td>0</td>\n",
       "      <td>3</td>\n",
       "      <td>male</td>\n",
       "      <td>22.0</td>\n",
       "      <td>1</td>\n",
       "      <td>0</td>\n",
       "      <td>7.2500</td>\n",
       "      <td>S</td>\n",
       "    </tr>\n",
       "    <tr>\n",
       "      <th>1</th>\n",
       "      <td>2</td>\n",
       "      <td>1</td>\n",
       "      <td>1</td>\n",
       "      <td>female</td>\n",
       "      <td>38.0</td>\n",
       "      <td>1</td>\n",
       "      <td>0</td>\n",
       "      <td>71.2833</td>\n",
       "      <td>C</td>\n",
       "    </tr>\n",
       "    <tr>\n",
       "      <th>2</th>\n",
       "      <td>3</td>\n",
       "      <td>1</td>\n",
       "      <td>3</td>\n",
       "      <td>female</td>\n",
       "      <td>26.0</td>\n",
       "      <td>0</td>\n",
       "      <td>0</td>\n",
       "      <td>7.9250</td>\n",
       "      <td>S</td>\n",
       "    </tr>\n",
       "    <tr>\n",
       "      <th>3</th>\n",
       "      <td>4</td>\n",
       "      <td>1</td>\n",
       "      <td>1</td>\n",
       "      <td>female</td>\n",
       "      <td>35.0</td>\n",
       "      <td>1</td>\n",
       "      <td>0</td>\n",
       "      <td>53.1000</td>\n",
       "      <td>S</td>\n",
       "    </tr>\n",
       "    <tr>\n",
       "      <th>4</th>\n",
       "      <td>5</td>\n",
       "      <td>0</td>\n",
       "      <td>3</td>\n",
       "      <td>male</td>\n",
       "      <td>35.0</td>\n",
       "      <td>0</td>\n",
       "      <td>0</td>\n",
       "      <td>8.0500</td>\n",
       "      <td>S</td>\n",
       "    </tr>\n",
       "    <tr>\n",
       "      <th>...</th>\n",
       "      <td>...</td>\n",
       "      <td>...</td>\n",
       "      <td>...</td>\n",
       "      <td>...</td>\n",
       "      <td>...</td>\n",
       "      <td>...</td>\n",
       "      <td>...</td>\n",
       "      <td>...</td>\n",
       "      <td>...</td>\n",
       "    </tr>\n",
       "    <tr>\n",
       "      <th>884</th>\n",
       "      <td>887</td>\n",
       "      <td>0</td>\n",
       "      <td>2</td>\n",
       "      <td>male</td>\n",
       "      <td>27.0</td>\n",
       "      <td>0</td>\n",
       "      <td>0</td>\n",
       "      <td>13.0000</td>\n",
       "      <td>S</td>\n",
       "    </tr>\n",
       "    <tr>\n",
       "      <th>885</th>\n",
       "      <td>888</td>\n",
       "      <td>1</td>\n",
       "      <td>1</td>\n",
       "      <td>female</td>\n",
       "      <td>19.0</td>\n",
       "      <td>0</td>\n",
       "      <td>0</td>\n",
       "      <td>30.0000</td>\n",
       "      <td>S</td>\n",
       "    </tr>\n",
       "    <tr>\n",
       "      <th>886</th>\n",
       "      <td>889</td>\n",
       "      <td>0</td>\n",
       "      <td>3</td>\n",
       "      <td>female</td>\n",
       "      <td>45.0</td>\n",
       "      <td>1</td>\n",
       "      <td>2</td>\n",
       "      <td>23.4500</td>\n",
       "      <td>S</td>\n",
       "    </tr>\n",
       "    <tr>\n",
       "      <th>887</th>\n",
       "      <td>890</td>\n",
       "      <td>1</td>\n",
       "      <td>1</td>\n",
       "      <td>male</td>\n",
       "      <td>26.0</td>\n",
       "      <td>0</td>\n",
       "      <td>0</td>\n",
       "      <td>30.0000</td>\n",
       "      <td>C</td>\n",
       "    </tr>\n",
       "    <tr>\n",
       "      <th>888</th>\n",
       "      <td>891</td>\n",
       "      <td>0</td>\n",
       "      <td>3</td>\n",
       "      <td>male</td>\n",
       "      <td>32.0</td>\n",
       "      <td>0</td>\n",
       "      <td>0</td>\n",
       "      <td>7.7500</td>\n",
       "      <td>Q</td>\n",
       "    </tr>\n",
       "  </tbody>\n",
       "</table>\n",
       "<p>889 rows × 9 columns</p>\n",
       "</div>"
      ],
      "text/plain": [
       "     PassengerId  Survived  Pclass     Sex   Age  SibSp  Parch     Fare  \\\n",
       "0              1         0       3    male  22.0      1      0   7.2500   \n",
       "1              2         1       1  female  38.0      1      0  71.2833   \n",
       "2              3         1       3  female  26.0      0      0   7.9250   \n",
       "3              4         1       1  female  35.0      1      0  53.1000   \n",
       "4              5         0       3    male  35.0      0      0   8.0500   \n",
       "..           ...       ...     ...     ...   ...    ...    ...      ...   \n",
       "884          887         0       2    male  27.0      0      0  13.0000   \n",
       "885          888         1       1  female  19.0      0      0  30.0000   \n",
       "886          889         0       3  female  45.0      1      2  23.4500   \n",
       "887          890         1       1    male  26.0      0      0  30.0000   \n",
       "888          891         0       3    male  32.0      0      0   7.7500   \n",
       "\n",
       "    Embarked  \n",
       "0          S  \n",
       "1          C  \n",
       "2          S  \n",
       "3          S  \n",
       "4          S  \n",
       "..       ...  \n",
       "884        S  \n",
       "885        S  \n",
       "886        S  \n",
       "887        C  \n",
       "888        Q  \n",
       "\n",
       "[889 rows x 9 columns]"
      ]
     },
     "execution_count": 225,
     "metadata": {},
     "output_type": "execute_result"
    }
   ],
   "source": [
    "dataset.drop_duplicates()\n",
    "dataset.dropna()"
   ]
  },
  {
   "cell_type": "code",
   "execution_count": 226,
   "metadata": {},
   "outputs": [],
   "source": [
    "le = preprocessing.LabelEncoder()\n",
    "dataset['Sex'] = le.fit_transform(dataset['Sex'])\n",
    "dataset['Embarked'] = le.fit_transform(dataset['Embarked'])"
   ]
  },
  {
   "cell_type": "code",
   "execution_count": 238,
   "metadata": {},
   "outputs": [],
   "source": [
    "from sklearn import neighbors"
   ]
  },
  {
   "cell_type": "code",
   "execution_count": 281,
   "metadata": {},
   "outputs": [],
   "source": [
    "def diagsum(mat): \n",
    "    sh = np.shape(mat)\n",
    "    n = sh[0]\n",
    "    principal = 0\n",
    "    for i in range(0, n):  \n",
    "        for j in range(0, n):  \n",
    "            if (i == j): \n",
    "                principal += mat[i][j] \n",
    "    return principal"
   ]
  },
  {
   "cell_type": "code",
   "execution_count": 282,
   "metadata": {},
   "outputs": [],
   "source": [
    "def knn_alogrithm(dependent_var):\n",
    "    y = dataset[dependent_var]\n",
    "    X = dataset.drop([dependent_var,'PassengerId'],axis=1)\n",
    "    x_train,x_test,y_train,y_test = train_test_split(X,y,test_size=0.2,random_state=0)\n",
    "    k_val = []\n",
    "    acc_score = []\n",
    "    n = y_test.size\n",
    "    for i in range(1,n):\n",
    "        k_val.append(i)\n",
    "        knn = neighbors.KNeighborsClassifier(n_neighbors=i)\n",
    "        acc = knn.fit(x_train,y_train).score(x_test,y_test)\n",
    "        acc_score.append(acc)\n",
    "        y_pred = knn.predict(x_test)\n",
    "        c_mat = confusion_matrix(y_test,y_pred)\n",
    "        if acc == max(acc_score):\n",
    "            print(\"**********MAXIMUM ACCURACY SCORED ITERATION***************\")\n",
    "            print(\"K value =\",i,\"\\n Confusion Matrix:\\n\",c_mat)\n",
    "            print(\"Here, Out of\",n,\"records, \",diagsum(c_mat),\"records are correctly classified!\\n and accuracy score is\",acc,\"\\n\")\n",
    "    plt.plot(k_val,acc_score)\n",
    "    plt.xlabel(\"K Value\")\n",
    "    plt.ylabel(\"Accuracy Score\")\n",
    "    plt.show()"
   ]
  },
  {
   "cell_type": "code",
   "execution_count": null,
   "metadata": {
    "scrolled": true
   },
   "outputs": [],
   "source": []
  },
  {
   "cell_type": "markdown",
   "metadata": {},
   "source": [
    "# KNN: Dependent variable = Passenger Class"
   ]
  },
  {
   "cell_type": "code",
   "execution_count": 283,
   "metadata": {},
   "outputs": [
    {
     "name": "stdout",
     "output_type": "stream",
     "text": [
      "**********MAXIMUM ACCURACY SCORED ITERATION***************\n",
      "K value = 1 \n",
      " Confusion Matrix:\n",
      " [[40  6  1]\n",
      " [ 3 27  5]\n",
      " [ 1  7 88]]\n",
      "Here, Out of 178 records,  155 records are correctly classified!\n",
      " and accuracy score is 0.8707865168539326 \n",
      "\n",
      "**********MAXIMUM ACCURACY SCORED ITERATION***************\n",
      "K value = 3 \n",
      " Confusion Matrix:\n",
      " [[41  6  0]\n",
      " [ 4 26  5]\n",
      " [ 5  2 89]]\n",
      "Here, Out of 178 records,  156 records are correctly classified!\n",
      " and accuracy score is 0.8764044943820225 \n",
      "\n"
     ]
    },
    {
     "data": {
      "image/png": "[encoded data removed]",
      "text/plain": [
       "<Figure size 432x288 with 1 Axes>"
      ]
     },
     "metadata": {
      "needs_background": "light"
     },
     "output_type": "display_data"
    }
   ],
   "source": [
    "knn_alogrithm('Pclass')"
   ]
  },
  {
   "cell_type": "markdown",
   "metadata": {},
   "source": [
    "### At 1st and 3rd iteration the accuracy score value is 87.6% reached the maximum value. \n",
    "\n",
    "\n",
    "\n",
    "### K value = 3 is Best for the classification model."
   ]
  },
  {
   "cell_type": "code",
   "execution_count": null,
   "metadata": {},
   "outputs": [],
   "source": []
  },
  {
   "cell_type": "markdown",
   "metadata": {},
   "source": [
    "# KNN: Dependent variable = Survived Passengers"
   ]
  },
  {
   "cell_type": "code",
   "execution_count": 284,
   "metadata": {},
   "outputs": [
    {
     "name": "stdout",
     "output_type": "stream",
     "text": [
      "**********MAXIMUM ACCURACY SCORED ITERATION***************\n",
      "K value = 1 \n",
      " Confusion Matrix:\n",
      " [[83 22]\n",
      " [35 38]]\n",
      "Here, Out of 178 records,  121 records are correctly classified!\n",
      " and accuracy score is 0.6797752808988764 \n",
      "\n",
      "**********MAXIMUM ACCURACY SCORED ITERATION***************\n",
      "K value = 5 \n",
      " Confusion Matrix:\n",
      " [[80 25]\n",
      " [31 42]]\n",
      "Here, Out of 178 records,  122 records are correctly classified!\n",
      " and accuracy score is 0.6853932584269663 \n",
      "\n",
      "**********MAXIMUM ACCURACY SCORED ITERATION***************\n",
      "K value = 6 \n",
      " Confusion Matrix:\n",
      " [[86 19]\n",
      " [37 36]]\n",
      "Here, Out of 178 records,  122 records are correctly classified!\n",
      " and accuracy score is 0.6853932584269663 \n",
      "\n",
      "**********MAXIMUM ACCURACY SCORED ITERATION***************\n",
      "K value = 7 \n",
      " Confusion Matrix:\n",
      " [[82 23]\n",
      " [31 42]]\n",
      "Here, Out of 178 records,  124 records are correctly classified!\n",
      " and accuracy score is 0.6966292134831461 \n",
      "\n"
     ]
    },
    {
     "data": {
      "image/png": "[encoded data removed]",
      "text/plain": [
       "<Figure size 432x288 with 1 Axes>"
      ]
     },
     "metadata": {
      "needs_background": "light"
     },
     "output_type": "display_data"
    }
   ],
   "source": [
    "knn_alogrithm('Survived')"
   ]
  },
  {
   "cell_type": "markdown",
   "metadata": {},
   "source": [
    "### K value = 7 is Best classification model  based on Survived Column. \n",
    "### maximun accuracy score value is 69.6%"
   ]
  },
  {
   "cell_type": "code",
   "execution_count": null,
   "metadata": {},
   "outputs": [],
   "source": []
  },
  {
   "cell_type": "markdown",
   "metadata": {},
   "source": [
    "# KNN: Dependent variable = Gender"
   ]
  },
  {
   "cell_type": "code",
   "execution_count": 285,
   "metadata": {},
   "outputs": [
    {
     "name": "stdout",
     "output_type": "stream",
     "text": [
      "**********MAXIMUM ACCURACY SCORED ITERATION***************\n",
      "K value = 1 \n",
      " Confusion Matrix:\n",
      " [[35 28]\n",
      " [29 86]]\n",
      "Here, Out of 178 records,  121 records are correctly classified!\n",
      " and accuracy score is 0.6797752808988764 \n",
      "\n",
      "**********MAXIMUM ACCURACY SCORED ITERATION***************\n",
      "K value = 5 \n",
      " Confusion Matrix:\n",
      " [[32 31]\n",
      " [25 90]]\n",
      "Here, Out of 178 records,  122 records are correctly classified!\n",
      " and accuracy score is 0.6853932584269663 \n",
      "\n"
     ]
    },
    {
     "data": {
      "image/png": "[encoded data removed]",
      "text/plain": [
       "<Figure size 432x288 with 1 Axes>"
      ]
     },
     "metadata": {
      "needs_background": "light"
     },
     "output_type": "display_data"
    }
   ],
   "source": [
    "knn_alogrithm('Sex')"
   ]
  },
  {
   "cell_type": "markdown",
   "metadata": {},
   "source": [
    "### K value = 5 is Best classification model based on Sex Column.\n",
    "### maximun accuracy score value is 68.5%"
   ]
  },
  {
   "cell_type": "code",
   "execution_count": null,
   "metadata": {},
   "outputs": [],
   "source": []
  },
  {
   "cell_type": "markdown",
   "metadata": {},
   "source": [
    "# KNN: Dependent variable = Embarked"
   ]
  },
  {
   "cell_type": "code",
   "execution_count": 286,
   "metadata": {},
   "outputs": [
    {
     "name": "stdout",
     "output_type": "stream",
     "text": [
      "**********MAXIMUM ACCURACY SCORED ITERATION***************\n",
      "K value = 1 \n",
      " Confusion Matrix:\n",
      " [[ 17   1  12]\n",
      " [  0   4  12]\n",
      " [ 15   7 110]]\n",
      "Here, Out of 178 records,  131 records are correctly classified!\n",
      " and accuracy score is 0.7359550561797753 \n",
      "\n",
      "**********MAXIMUM ACCURACY SCORED ITERATION***************\n",
      "K value = 5 \n",
      " Confusion Matrix:\n",
      " [[ 12   3  15]\n",
      " [  0   4  12]\n",
      " [ 11   2 119]]\n",
      "Here, Out of 178 records,  135 records are correctly classified!\n",
      " and accuracy score is 0.7584269662921348 \n",
      "\n",
      "**********MAXIMUM ACCURACY SCORED ITERATION***************\n",
      "K value = 45 \n",
      " Confusion Matrix:\n",
      " [[  5   1  24]\n",
      " [  0   4  12]\n",
      " [  6   0 126]]\n",
      "Here, Out of 178 records,  135 records are correctly classified!\n",
      " and accuracy score is 0.7584269662921348 \n",
      "\n"
     ]
    },
    {
     "data": {
      "image/png": "[encoded data removed]",
      "text/plain": [
       "<Figure size 432x288 with 1 Axes>"
      ]
     },
     "metadata": {
      "needs_background": "light"
     },
     "output_type": "display_data"
    }
   ],
   "source": [
    "knn_alogrithm('Embarked')"
   ]
  },
  {
   "cell_type": "markdown",
   "metadata": {},
   "source": [
    "### K value = 45 is Best classification model based on Embarked Column.\n",
    "### maximun accuracy score value is 75.8%"
   ]
  },
  {
   "cell_type": "code",
   "execution_count": null,
   "metadata": {},
   "outputs": [],
   "source": []
  },
  {
   "cell_type": "markdown",
   "metadata": {},
   "source": [
    "# KNN: Dependent variable = Parch"
   ]
  },
  {
   "cell_type": "code",
   "execution_count": 287,
   "metadata": {},
   "outputs": [
    {
     "name": "stdout",
     "output_type": "stream",
     "text": [
      "**********MAXIMUM ACCURACY SCORED ITERATION***************\n",
      "K value = 1 \n",
      " Confusion Matrix:\n",
      " [[121   7   5   0   0   0]\n",
      " [ 13   7   2   0   0   1]\n",
      " [  4   8   8   0   0   0]\n",
      " [  0   0   1   0   0   0]\n",
      " [  1   0   0   0   0   0]\n",
      " [  0   0   0   0   0   0]]\n",
      "Here, Out of 178 records,  136 records are correctly classified!\n",
      " and accuracy score is 0.7640449438202247 \n",
      "\n",
      "**********MAXIMUM ACCURACY SCORED ITERATION***************\n",
      "K value = 2 \n",
      " Confusion Matrix:\n",
      " [[131   2   0   0   0]\n",
      " [ 16   7   0   0   0]\n",
      " [ 11   4   5   0   0]\n",
      " [  1   0   0   0   0]\n",
      " [  1   0   0   0   0]]\n",
      "Here, Out of 178 records,  143 records are correctly classified!\n",
      " and accuracy score is 0.8033707865168539 \n",
      "\n"
     ]
    },
    {
     "data": {
      "image/png": "[encoded data removed]",
      "text/plain": [
       "<Figure size 432x288 with 1 Axes>"
      ]
     },
     "metadata": {
      "needs_background": "light"
     },
     "output_type": "display_data"
    }
   ],
   "source": [
    "knn_alogrithm('Parch')"
   ]
  },
  {
   "cell_type": "markdown",
   "metadata": {},
   "source": [
    "### K value = 2 is Best classification model based on Parch Column.\n",
    "### maximun accuracy score value is 80.3%"
   ]
  },
  {
   "cell_type": "code",
   "execution_count": null,
   "metadata": {},
   "outputs": [],
   "source": []
  },
  {
   "cell_type": "markdown",
   "metadata": {},
   "source": [
    "# KNN: Dependent variable = SibSp"
   ]
  },
  {
   "cell_type": "code",
   "execution_count": 288,
   "metadata": {},
   "outputs": [
    {
     "name": "stdout",
     "output_type": "stream",
     "text": [
      "**********MAXIMUM ACCURACY SCORED ITERATION***************\n",
      "K value = 1 \n",
      " Confusion Matrix:\n",
      " [[112  11   0   0   1   0   0]\n",
      " [ 16  21   3   0   0   0   0]\n",
      " [  3   0   1   0   0   0   0]\n",
      " [  0   1   1   2   2   0   0]\n",
      " [  0   0   0   0   1   0   0]\n",
      " [  0   0   0   0   0   1   0]\n",
      " [  0   0   0   0   0   0   2]]\n",
      "Here, Out of 178 records,  140 records are correctly classified!\n",
      " and accuracy score is 0.7865168539325843 \n",
      "\n",
      "**********MAXIMUM ACCURACY SCORED ITERATION***************\n",
      "K value = 3 \n",
      " Confusion Matrix:\n",
      " [[109  14   0   0   1   0   0]\n",
      " [ 15  25   0   0   0   0   0]\n",
      " [  3   1   0   0   0   0   0]\n",
      " [  0   2   1   2   1   0   0]\n",
      " [  0   0   0   0   1   0   0]\n",
      " [  0   0   0   0   0   1   0]\n",
      " [  0   0   0   0   0   0   2]]\n",
      "Here, Out of 178 records,  140 records are correctly classified!\n",
      " and accuracy score is 0.7865168539325843 \n",
      "\n"
     ]
    },
    {
     "data": {
      "image/png": "[encoded data removed]",
      "text/plain": [
       "<Figure size 432x288 with 1 Axes>"
      ]
     },
     "metadata": {
      "needs_background": "light"
     },
     "output_type": "display_data"
    }
   ],
   "source": [
    "knn_alogrithm('SibSp')"
   ]
  },
  {
   "cell_type": "markdown",
   "metadata": {},
   "source": [
    "### K value = 3 is Best classification model based on SibSp Column.\n",
    "### maximun accuracy score value is 78.65%"
   ]
  },
  {
   "cell_type": "code",
   "execution_count": null,
   "metadata": {},
   "outputs": [],
   "source": []
  }
 ],
 "metadata": {
  "kernelspec": {
   "display_name": "Python 3",
   "language": "python",
   "name": "python3"
  },
  "language_info": {
   "codemirror_mode": {
    "name": "ipython",
    "version": 3
   },
   "file_extension": ".py",
   "mimetype": "text/x-python",
   "name": "python",
   "nbconvert_exporter": "python",
   "pygments_lexer": "ipython3",
   "version": "3.7.6"
  }
 },
 "nbformat": 4,
 "nbformat_minor": 4
}
