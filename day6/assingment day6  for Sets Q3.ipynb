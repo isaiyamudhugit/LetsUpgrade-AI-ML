{
 "cells": [
  {
   "cell_type": "code",
   "execution_count": null,
   "metadata": {},
   "outputs": [],
   "source": []
  },
  {
   "cell_type": "markdown",
   "metadata": {},
   "source": [
    "# Question 3:\n",
    "Create your own Jupyter Notebook for Sets.\n",
    "Reference link: https://www.w3schools.com/python/python_sets.asp\n"
   ]
  },
  {
   "cell_type": "code",
   "execution_count": 15,
   "metadata": {},
   "outputs": [
    {
     "name": "stdout",
     "output_type": "stream",
     "text": [
      "<class 'set'>\n",
      "True\n",
      "{'four', 'three', 'one', 'two', 'zero', 'five'}\n",
      "6\n",
      "{'three', 'one', 'two', 'zero', 'five'}\n",
      "{'three', 'one', 'two', 'five'}\n",
      "three\n",
      "{'one', 'two', 'five'}\n",
      "{1, 2, 3, 4, 5, 'one', 'two', 'five'}\n",
      "{1, 2, 3, 4, 5, 'one', 'two', 'five'}\n",
      "True\n",
      "True\n",
      "False\n",
      "{'one', 'two', 'five'}\n",
      "{1, 2, 3, 4, 5, 'one', 'two', 'five'}\n",
      "{'one', 'two', 'zero', 'five'}\n",
      "{1, 2, 3, 4, 5, 'one', 'two', 'five'}\n",
      "{1, 2, 3, 4, 5, 'zero'}\n",
      "None\n",
      "{1, 2, 3, 4, 5, 'zero'}\n",
      "{1, 2, 3, 4, 5, 'one', 'two', 'five'}\n"
     ]
    }
   ],
   "source": [
    "setvar = {\"one\",\"two\",\"three\",\"four\",\"five\"}\n",
    "set1 = {1,2,3,4,5}\n",
    "print(type(setvar))\n",
    "\n",
    "print(\"three\" in setvar) \n",
    "\n",
    "setvar.add(\"zero\") # adding new item using add().\n",
    "\n",
    "print(setvar)\n",
    "\n",
    "print(len(setvar)) #getting number of items in this set using len() buildin function.\n",
    "\n",
    "setvar.remove(\"four\") #removing perticular value using remove build in function.\n",
    "\n",
    "print(setvar)\n",
    "\n",
    "setvar.discard(\"zero\") #removing perticular value using discard build in function.\n",
    "\n",
    "print(setvar)\n",
    "\n",
    "newset = setvar.pop() #remove thelast item using pop build in function.\n",
    "\n",
    "print(newset)\n",
    "print(setvar)\n",
    "\n",
    "print(setvar.union(set1)) #The union() method returns a new set with all items from both sets\n",
    "\n",
    "set1.update(setvar) #The update() method inserts the items in set1 into setvar\n",
    "print(set1)\n",
    "\n",
    "print(set1.issuperset(setvar))#The issuperset() method returns True if all items in the specified set exists in the original set, otherwise it retuns False.\n",
    "print(setvar.issubset(set1)) #Return True if all items set setvar are present in set set1\n",
    "\n",
    "#print(setvar)\n",
    "print(setvar.isdisjoint(set1)) #Return True if no items in set setvar is present in set set1\n",
    "\n",
    "print(setvar)\n",
    "print(set1)\n",
    "\n",
    "\n",
    "setvar.update({\"zero\",\"one\",\"two\"})\n",
    "print(setvar)\n",
    "print(set1)\n",
    "\n",
    "print(setvar.symmetric_difference(set1))#Return a set that contains all items from both sets, except items that are present in both sets\n",
    "print(setvar.symmetric_difference_update(set1)) #Remove the items that are present in both sets, AND insert the items that is not present in both sets\n",
    "print(setvar)\n",
    "print(set1)\n",
    "\n"
   ]
  },
  {
   "cell_type": "code",
   "execution_count": null,
   "metadata": {},
   "outputs": [],
   "source": []
  }
 ],
 "metadata": {
  "kernelspec": {
   "display_name": "Python 3",
   "language": "python",
   "name": "python3"
  },
  "language_info": {
   "codemirror_mode": {
    "name": "ipython",
    "version": 3
   },
   "file_extension": ".py",
   "mimetype": "text/x-python",
   "name": "python",
   "nbconvert_exporter": "python",
   "pygments_lexer": "ipython3",
   "version": "3.7.6"
  }
 },
 "nbformat": 4,
 "nbformat_minor": 4
}
