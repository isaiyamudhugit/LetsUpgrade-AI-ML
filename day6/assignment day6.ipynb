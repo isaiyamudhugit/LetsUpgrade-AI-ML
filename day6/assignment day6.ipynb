{
 "cells": [
  {
   "cell_type": "markdown",
   "metadata": {},
   "source": [
    "# Question 1:\n",
    "Assuming that we have some email addresses in the \"username@companyname.com\" format, please write program to print the company name of a given email address. Both user names and company names are composed of letters only. Input Format: The first line of the input contains an email address. Output Format: Print the company name in single line. Example; Input: john@google.com Output: google"
   ]
  },
  {
   "cell_type": "code",
   "execution_count": 1,
   "metadata": {},
   "outputs": [
    {
     "name": "stdout",
     "output_type": "stream",
     "text": [
      "please enter email address:john@google.com\n",
      "google\n"
     ]
    }
   ],
   "source": [
    "import re #Regular expression operations\n",
    "\n",
    "em = input(\"please enter email address:\")\n",
    "emlst = list(map(lambda em : em, re.split(r'[@.]', em)))\n",
    "\n",
    "print(emlst[1])"
   ]
  },
  {
   "cell_type": "markdown",
   "metadata": {},
   "source": [
    "# Question 2:\n",
    "Write a program that accepts a comma-separated sequence of words as input and prints the words in a comma separated sequence after sorting them alphabetically. Input Format: The first line of input contains words separated by the comma. Output Format: Print the sorted words separated by the comma. Example: Input: without,hello,bag,world Output: bag,hello,without,world"
   ]
  },
  {
   "cell_type": "code",
   "execution_count": 2,
   "metadata": {},
   "outputs": [
    {
     "name": "stdout",
     "output_type": "stream",
     "text": [
      "Enter multiple words with ',' seperation:without,hello,bag,world\n",
      "alphabetically sorted ['bag', 'hello', 'without', 'world']\n"
     ]
    }
   ],
   "source": [
    "ipstr = input(\"Enter multiple words with ',' seperation:\")\n",
    "wrds = list(map(lambda x : x ,ipstr.split(',')))\n",
    "wrds.sort()\n",
    "print(\"alphabetically sorted\",wrds)"
   ]
  },
  {
   "cell_type": "markdown",
   "metadata": {},
   "source": [
    "# Question 4:\n",
    "Given a list of n-1 numbers ranging from 1 to n, your task is to find the missing number. There are no duplicates.\n",
    "\n",
    "Input Format:\n",
    "\n",
    "The first line contains n-1 numbers with each number separated by a space.\n",
    "\n",
    "Output Format:\n",
    "\n",
    "Print the missing number\n",
    "\n",
    "Example:\n",
    "\n",
    "Input: 1 2 4 6 3 7 8\n",
    "\n",
    "Output: 5\n",
    "\n",
    "Explanation:\n",
    "\n",
    "In the above list of numbers 5 is missing and hence 5 is the input"
   ]
  },
  {
   "cell_type": "code",
   "execution_count": 3,
   "metadata": {},
   "outputs": [
    {
     "name": "stdout",
     "output_type": "stream",
     "text": [
      "[3, 5, 8]\n"
     ]
    }
   ],
   "source": [
    "def find_missing(lst): \n",
    "    newlst = sorted(set(range(lst[0], lst[-1])) - set(lst))\n",
    "    return(newlst)  \n",
    "\n",
    "lst = [1, 2, 4, 6, 7, 9, 10] \n",
    "print(find_missing(lst)) "
   ]
  },
  {
   "cell_type": "markdown",
   "metadata": {},
   "source": [
    "# Question 5:\n",
    "With a given list L, write a program to print this list L after removing all duplicate values with original order reserved.\n",
    "\n",
    "Example:\n",
    "\n",
    "If the input list is 12 24 35 24 88 120 155 88 120 155\n",
    "\n",
    "Then the output should be 12 24 35 88 120 155\n",
    "\n",
    "Explanation: Third, seventh and ninth element of the list L has been removed because it was already present.\n",
    "\n",
    "Input Format: In one line take the elements of the list L with each element separated by a space.\n",
    "\n",
    "Output Format: Print the elements of the modified list in one line with each element separated by a space.\n",
    "\n",
    "Example: Input: 12 24 35 24 Output: 12 24 35 ."
   ]
  },
  {
   "cell_type": "code",
   "execution_count": 3,
   "metadata": {},
   "outputs": [
    {
     "name": "stdout",
     "output_type": "stream",
     "text": [
      "[12, 24, 35, 88, 120, 155]\n"
     ]
    }
   ],
   "source": [
    "def removeduplicate(numlst): \n",
    "    newlst = [] \n",
    "    for i in numlst: \n",
    "        if i not in newlst: \n",
    "            newlst.append(i) \n",
    "    return newlst \n",
    "\n",
    "numlst = [12,24,35,24,88,120,155,88,120,155] \n",
    "print(removeduplicate(numlst))"
   ]
  },
  {
   "cell_type": "code",
   "execution_count": null,
   "metadata": {},
   "outputs": [],
   "source": []
  }
 ],
 "metadata": {
  "kernelspec": {
   "display_name": "Python 3",
   "language": "python",
   "name": "python3"
  },
  "language_info": {
   "codemirror_mode": {
    "name": "ipython",
    "version": 3
   },
   "file_extension": ".py",
   "mimetype": "text/x-python",
   "name": "python",
   "nbconvert_exporter": "python",
   "pygments_lexer": "ipython3",
   "version": "3.7.6"
  }
 },
 "nbformat": 4,
 "nbformat_minor": 4
}
