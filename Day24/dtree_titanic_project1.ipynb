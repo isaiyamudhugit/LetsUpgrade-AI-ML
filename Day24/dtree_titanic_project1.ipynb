{
 "cells": [
  {
   "cell_type": "markdown",
   "metadata": {},
   "source": [
    "# Project 1: \n",
    "## Build Decision Tree(DV-\"Survived\",IDV-\"Age,Gender and Fare\") and Prediction\n"
   ]
  },
  {
   "cell_type": "code",
   "execution_count": 9,
   "metadata": {},
   "outputs": [
    {
     "name": "stdout",
     "output_type": "stream",
     "text": [
      "0.8706411698537683 % Accurate model we get!\n"
     ]
    }
   ],
   "source": [
    "import pandas as pd\n",
    "import numpy as np\n",
    "from sklearn.ensemble import RandomForestClassifier\n",
    "from sklearn import tree\n",
    "from sklearn import preprocessing\n",
    "\n",
    "titanic_train = pd.read_csv('train.csv')\n",
    "\n",
    "titanic_train['Age'] = np.where(titanic_train['Age'].isnull(),titanic_train['Age'].mean(),titanic_train['Age'])\n",
    "\n",
    "label_encoder = preprocessing.LabelEncoder()\n",
    "titanic_train['Sex'] = label_encoder.fit_transform(titanic_train['Sex'])\n",
    "\n",
    "predictors = pd.DataFrame([titanic_train['Age'],titanic_train['Sex'],titanic_train['Fare']]).T\n",
    "\n",
    "tree_model = tree.DecisionTreeClassifier(max_depth=8)\n",
    "\n",
    "tree_model.fit(X=predictors,y=titanic_train['Survived'])\n",
    "\n",
    "accuracy = tree_model.score(X=predictors,y=titanic_train['Survived'])\n",
    "\n",
    "with open('Dtree_titanic_train.dot','w') as f:\n",
    "    f=tree.export_graphviz(tree_model,feature_names=['Age','Sex','Fare'],out_file=f)\n",
    "\n",
    "print(accuracy,\"% Accurate model we get!\")\n"
   ]
  },
  {
   "cell_type": "code",
   "execution_count": 2,
   "metadata": {},
   "outputs": [
    {
     "name": "stdout",
     "output_type": "stream",
     "text": [
      "   passengerID  Survived\n",
      "0          892         0\n",
      "1          893         1\n",
      "2          894         0\n",
      "3          895         0\n",
      "4          896         1\n"
     ]
    }
   ],
   "source": [
    "# Prediction for the titanic_test data:-\n",
    "\n",
    "titanic_test = pd.read_csv('test.csv')\n",
    "\n",
    "titanic_test['Age'] = np.where(titanic_test['Age'].isnull(),titanic_test['Age'].mean(),titanic_test['Age'])\n",
    "\n",
    "titanic_test['Sex'] = label_encoder.fit_transform(titanic_test['Sex'])\n",
    "\n",
    "test_features = pd.DataFrame([titanic_test['Age'],titanic_test['Sex'],titanic_test['Fare']]).T\n",
    "\n",
    "test_predictions = tree_model.predict(X=test_features)\n",
    "\n",
    "predicted_output = pd.DataFrame({'passengerID':titanic_test['PassengerId'],'Survived':test_predictions})\n",
    "\n",
    "predicted_output.to_csv('output.csv',index=False)\n",
    "\n",
    "print(predicted_output.head())\n",
    "\n",
    "\n"
   ]
  },
  {
   "cell_type": "markdown",
   "metadata": {},
   "source": [
    "# Rules based on decision tree model:\n",
    "\n",
    "1. if 'Age <= 43.0 and >27.0' and 'Fare >25.698' and gender is female then 100% Survived.\n",
    "2. if 'fare>23.538 and 'Age <=3.5' and then 83% males are survived.\n",
    "3. if 'fare>11.0' and 'Age>30.75' and 'Fare <=26.269' then 1% males are survived."
   ]
  }
 ],
 "metadata": {
  "kernelspec": {
   "display_name": "Python 3",
   "language": "python",
   "name": "python3"
  },
  "language_info": {
   "codemirror_mode": {
    "name": "ipython",
    "version": 3
   },
   "file_extension": ".py",
   "mimetype": "text/x-python",
   "name": "python",
   "nbconvert_exporter": "python",
   "pygments_lexer": "ipython3",
   "version": "3.7.6"
  }
 },
 "nbformat": 4,
 "nbformat_minor": 4
}
