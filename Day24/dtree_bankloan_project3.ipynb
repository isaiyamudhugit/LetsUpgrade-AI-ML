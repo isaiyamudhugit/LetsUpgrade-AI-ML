{
 "cells": [
  {
   "cell_type": "markdown",
   "metadata": {},
   "source": [
    "# Project 3: Build Decision Tree for Bank Loan Modelling\n",
    "DV - \"Personal Loan\"\n",
    "IDV - Output of RF Algorithm"
   ]
  },
  {
   "cell_type": "code",
   "execution_count": 1,
   "metadata": {},
   "outputs": [
    {
     "data": {
      "text/plain": [
       "Index(['ID', 'Age', 'Experience', 'Income', 'ZIP Code', 'Family', 'CCAvg',\n",
       "       'Education', 'Mortgage', 'Personal Loan', 'Securities Account',\n",
       "       'CD Account', 'Online', 'CreditCard'],\n",
       "      dtype='object')"
      ]
     },
     "execution_count": 1,
     "metadata": {},
     "output_type": "execute_result"
    }
   ],
   "source": [
    "import pandas as pd\n",
    "import numpy as np\n",
    "from sklearn.ensemble import RandomForestClassifier\n",
    "from sklearn import tree\n",
    "\n",
    "bank_data = pd.read_csv('Bank_Personal_Loan_Modelling_csv.csv')\n",
    "bank_data.columns"
   ]
  },
  {
   "cell_type": "code",
   "execution_count": 3,
   "metadata": {},
   "outputs": [
    {
     "name": "stdout",
     "output_type": "stream",
     "text": [
      "OOB Accuracy: True\n",
      "Age 0.03595515836535364\n",
      "Experience 0.035711434648206274\n",
      "Income 0.34290572787680024\n",
      "Family 0.11543931940324852\n",
      "CCAvg 0.164702324043902\n",
      "Education 0.20335738070309717\n",
      "Mortgage 0.03197201557691687\n",
      "Securities Account 0.004170642194456612\n",
      "CD Account 0.05089556887180942\n",
      "Online 0.007036714736512768\n",
      "CreditCard 0.007853713579696485\n"
     ]
    }
   ],
   "source": [
    "rf_model = RandomForestClassifier(n_estimators=1000, max_features=3, oob_score=True)\n",
    "\n",
    "features = ['Age','Experience','Income','Family','CCAvg','Education','Mortgage','Securities Account','CD Account','Online','CreditCard']\n",
    "\n",
    "rf_model.fit(X=bank_data[features],y=bank_data['Personal Loan'])\n",
    "\n",
    "print(\"OOB Accuracy:\",rf_model.oob_score)\n",
    "\n",
    "for features,imp in zip(features,rf_model.feature_importances_):\n",
    "    print(features,imp)\n"
   ]
  },
  {
   "cell_type": "code",
   "execution_count": 4,
   "metadata": {},
   "outputs": [
    {
     "name": "stdout",
     "output_type": "stream",
     "text": [
      "99.52 % Accurate model we got!\n"
     ]
    }
   ],
   "source": [
    "predictors = pd.DataFrame([bank_data['Income'],bank_data['Family'],bank_data['CCAvg'],bank_data['Education']]).T\n",
    "\n",
    "tree_model = tree.DecisionTreeClassifier(max_depth=8)\n",
    "\n",
    "tree_model.fit(X=predictors,y=bank_data['Personal Loan'])\n",
    "\n",
    "with open('Dtree_bankloan.dot','w') as f:\n",
    "    f=tree.export_graphviz(tree_model,feature_names=['Income','Family','CCAvg','Education'],out_file=f)\n",
    "    \n",
    "accuracy = tree_model.score(X=predictors,y=bank_data['Personal Loan'])\n",
    "\n",
    "print(accuracy*100,\"% Accurate model we got!\")"
   ]
  }
 ],
 "metadata": {
  "kernelspec": {
   "display_name": "Python 3",
   "language": "python",
   "name": "python3"
  },
  "language_info": {
   "codemirror_mode": {
    "name": "ipython",
    "version": 3
   },
   "file_extension": ".py",
   "mimetype": "text/x-python",
   "name": "python",
   "nbconvert_exporter": "python",
   "pygments_lexer": "ipython3",
   "version": "3.7.6"
  }
 },
 "nbformat": 4,
 "nbformat_minor": 4
}
