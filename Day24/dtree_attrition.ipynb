{
 "cells": [
  {
   "cell_type": "markdown",
   "metadata": {},
   "source": [
    "# Project 2: Build Decision Tree for Attrition Rate Analysis\n",
    "DV - \"Attrition\"\n",
    "IDV - Output of RF Algorithm"
   ]
  },
  {
   "cell_type": "code",
   "execution_count": 4,
   "metadata": {},
   "outputs": [
    {
     "name": "stdout",
     "output_type": "stream",
     "text": [
      "OOB Accuracy: True\n",
      "Age 0.09906290558307419\n",
      "BusinessTravel 0.027123740598931072\n",
      "DistanceFromHome 0.07046176842037659\n",
      "Education 0.03882399415045388\n",
      "EducationField 0.0433903761506409\n",
      "EmployeeID 0.03287294689903609\n",
      "Gender 0.01657081301708936\n",
      "JobLevel 0.035331263260994575\n",
      "JobRole 0.05512871139615008\n",
      "MaritalStatus 0.03900785809896242\n",
      "MonthlyIncome 0.10071631116846773\n",
      "NumCompaniesWorked 0.055531301690373853\n",
      "PercentSalaryHike 0.06579098672585885\n",
      "StandardHours 0.0\n",
      "StockOptionLevel 0.03320211899267339\n",
      "TotalWorkingYears 0.08521385414976847\n",
      "TrainingTimesLastYear 0.04348467203840119\n",
      "YearsAtCompany 0.06499771070983398\n",
      "YearsSinceLastPromotion 0.0421588536391876\n",
      "YearsWithCurrManager 0.0511298133097258\n"
     ]
    }
   ],
   "source": [
    "import pandas as pd\n",
    "import numpy as np\n",
    "from sklearn.ensemble import RandomForestClassifier\n",
    "from sklearn import tree\n",
    "from sklearn import preprocessing\n",
    "\n",
    "attrition_data = pd.read_csv('general_data.csv')\n",
    "label_encoder = preprocessing.LabelEncoder()\n",
    "\n",
    "attrition_data.dropna()\n",
    "attrition_data.isnull()\n",
    "\n",
    "meanof_totworkingyrs = attrition_data['TotalWorkingYears'].mean()\n",
    "attrition_data['TotalWorkingYears'] = np.where(attrition_data['TotalWorkingYears'].isnull(),meanof_totworkingyrs,attrition_data['TotalWorkingYears'])\n",
    "\n",
    "meanof_NumCompaniesWorked = attrition_data['NumCompaniesWorked'].mean()\n",
    "attrition_data['NumCompaniesWorked'] = np.where(attrition_data['NumCompaniesWorked'].isnull(),meanof_NumCompaniesWorked,attrition_data['NumCompaniesWorked'])\n",
    "\n",
    "attrition_data['BusinessTravel'] = label_encoder.fit_transform(attrition_data['BusinessTravel'])\n",
    "attrition_data['Department'] = label_encoder.fit_transform(attrition_data['Department'])\n",
    "attrition_data['EducationField'] = label_encoder.fit_transform(attrition_data['EducationField'])\n",
    "attrition_data['Gender'] = label_encoder.fit_transform(attrition_data['Gender'])\n",
    "attrition_data['JobRole'] = label_encoder.fit_transform(attrition_data['JobRole'])\n",
    "attrition_data['MaritalStatus'] = label_encoder.fit_transform(attrition_data['MaritalStatus'])\n",
    "attrition_data['Attrition'] = label_encoder.fit_transform(attrition_data['Attrition'])\n",
    "\n",
    "rf_model = RandomForestClassifier(n_estimators=1000, max_features=3, oob_score=True)\n",
    "\n",
    "#print(attrition_data.columns)\n",
    "\n",
    "features = ['Age','BusinessTravel','DistanceFromHome','Education','EducationField','EmployeeID','Gender','JobLevel','JobRole','MaritalStatus','MonthlyIncome','NumCompaniesWorked','PercentSalaryHike','StandardHours','StockOptionLevel','TotalWorkingYears','TrainingTimesLastYear','YearsAtCompany','YearsSinceLastPromotion','YearsWithCurrManager']\n",
    "\n",
    "rf_model.fit(X=attrition_data[features],y=attrition_data['Attrition'])\n",
    "\n",
    "print(\"OOB Accuracy:\",rf_model.oob_score)\n",
    "\n",
    "for features,imp in zip(features,rf_model.feature_importances_):\n",
    "    print(features,imp)\n"
   ]
  },
  {
   "cell_type": "code",
   "execution_count": 3,
   "metadata": {},
   "outputs": [
    {
     "name": "stdout",
     "output_type": "stream",
     "text": [
      "89.97732426303855 % Accurate model we got!\n"
     ]
    }
   ],
   "source": [
    "predictors = pd.DataFrame([attrition_data['Age'],attrition_data['DistanceFromHome'],attrition_data['JobRole'],attrition_data['MonthlyIncome'],attrition_data['PercentSalaryHike'],attrition_data['TotalWorkingYears'], attrition_data['NumCompaniesWorked'],attrition_data['YearsAtCompany']]).T\n",
    "\n",
    "tree_model = tree.DecisionTreeClassifier(max_depth=8)\n",
    "\n",
    "tree_model.fit(X=predictors,y=attrition_data['Attrition'])\n",
    "\n",
    "with open('Dtree_attrition.dot','w') as f:\n",
    "    f=tree.export_graphviz(tree_model,feature_names=['Age','DistanceFromHome','JobRole','MonthlyIncome','PercentSalaryHike','TotalWorkingYears','NumCompaniesWorked','YearsAtCompany'],out_file=f)\n",
    "    \n",
    "accuracy = tree_model.score(X=predictors,y=attrition_data['Attrition'])\n",
    "\n",
    "print(accuracy*100,\"% Accurate model we got!\")\n"
   ]
  },
  {
   "cell_type": "code",
   "execution_count": null,
   "metadata": {},
   "outputs": [],
   "source": []
  }
 ],
 "metadata": {
  "kernelspec": {
   "display_name": "Python 3",
   "language": "python",
   "name": "python3"
  },
  "language_info": {
   "codemirror_mode": {
    "name": "ipython",
    "version": 3
   },
   "file_extension": ".py",
   "mimetype": "text/x-python",
   "name": "python",
   "nbconvert_exporter": "python",
   "pygments_lexer": "ipython3",
   "version": "3.7.6"
  }
 },
 "nbformat": 4,
 "nbformat_minor": 4
}
